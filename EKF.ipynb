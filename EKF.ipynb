{
 "cells": [
  {
   "cell_type": "code",
   "execution_count": 1,
   "metadata": {},
   "outputs": [
    {
     "name": "stdout",
     "output_type": "stream",
     "text": [
      "No RLR Path\n",
      "No LRL Path\n",
      "[[-15. -10.]\n",
      " [-15.   5.]]\n",
      "[[-100.  -10.]\n",
      " [-100.    5.]]\n"
     ]
    }
   ],
   "source": [
    "from ECEproj4 import *\n",
    "turn = 0.5/25\n",
    "from numpy import matmul as matm"
   ]
  },
  {
   "cell_type": "code",
   "execution_count": 2,
   "metadata": {},
   "outputs": [],
   "source": [
    "##these blocks set up the kalman filter parameters"
   ]
  },
  {
   "cell_type": "code",
   "execution_count": 3,
   "metadata": {},
   "outputs": [],
   "source": [
    "## a priori state covariance\n",
    "def Pkk1_cal(Fk1, Pk1k1, Lk1):\n",
    "    Pkk1 = matm(Fk1,matm(Pk1k1,Fk1.T))+matm(Lk1,Lk1.T)\n",
    "    return Pkk1;"
   ]
  },
  {
   "cell_type": "code",
   "execution_count": 4,
   "metadata": {},
   "outputs": [],
   "source": [
    "##innovation covariance\n",
    "def Sk_cal(Hk, Pkk1, Mk):\n",
    "    Sk = matm(matm(Hk,Pkk1),Hk.T)+matm(Mk,Mk.T)\n",
    "    return Sk;"
   ]
  },
  {
   "cell_type": "code",
   "execution_count": 5,
   "metadata": {},
   "outputs": [],
   "source": [
    "##sub-optimal kalman gain\n",
    "def Kk_cal(Pkk1, Hk, Sk):\n",
    "    Kk = matm(matm(Pkk1,Hk.T), np.linalg.inv(Sk))\n",
    "    return Kk;"
   ]
  },
  {
   "cell_type": "code",
   "execution_count": 6,
   "metadata": {},
   "outputs": [],
   "source": [
    "def f_forward(x_k1k1):\n",
    "    x_kk1 = np.zeros((3,1))\n",
    "    theta = x_k1k1[2]\n",
    "    x_kk1[2] = theta\n",
    "    x_kk1[0] = x_kk1[0]+(0.5*np.cos(theta))\n",
    "    x_kk1[1] = x_kk1[1]+(0.5*np.sin(theta))\n",
    "    return x_kk1;\n",
    "    "
   ]
  },
  {
   "cell_type": "code",
   "execution_count": 7,
   "metadata": {},
   "outputs": [],
   "source": [
    "def h_meas(x_hatkk1, radar_set):\n",
    "    beta1 = np.arctan2((x_hatkk1[1]-radar_set1[0,1]),(x_hatkk1[0]-radar_set1[0,0]))\n",
    "    beta2 = np.arctan2((x_hatkk1[1]-radar_set1[1,1]),(x_hatkk1[0]-radar_set1[1,0]))\n",
    "    phi = x_hatkk1[2]\n",
    "    y = np.zeros((3,1))\n",
    "    y[0] = beta1\n",
    "    y[1] = beta2\n",
    "    y[2] = phi\n",
    "    return y;\n",
    "\n",
    "    \n",
    "    "
   ]
  },
  {
   "cell_type": "code",
   "execution_count": 8,
   "metadata": {},
   "outputs": [],
   "source": [
    "##exact innovation\n",
    "def y_tildek_cal(yk, x_hatkk1, radar_set):\n",
    "    #print(yk)\n",
    "    #print(h_meas(x_hatkk1, radar_set))\n",
    "    y_tildek = yk-h_meas(x_hatkk1, radar_set)\n",
    "    return y_tildek;"
   ]
  },
  {
   "cell_type": "code",
   "execution_count": 9,
   "metadata": {},
   "outputs": [],
   "source": [
    "##a priori with innovation\n",
    "def x_hatkk_cal(x_hatkk1, Kk, y_tildek):\n",
    "    x_hatkk = x_hatkk1+matm(Kk,y_tildek)\n",
    "    #print(matm(Kk,y_tildek))\n",
    "    return x_hatkk;"
   ]
  },
  {
   "cell_type": "code",
   "execution_count": 10,
   "metadata": {},
   "outputs": [],
   "source": [
    "#a posteriori state covariance\n",
    "def Pkk_cal(Pkk1, Kk, Sk):\n",
    "    Pkk = Pkk1-matm(Kk, matm(Sk,Kk.T))\n",
    "    return Pkk;"
   ]
  },
  {
   "cell_type": "code",
   "execution_count": 11,
   "metadata": {},
   "outputs": [],
   "source": [
    "def Hk_cal(x_kk1, radar_set):\n",
    "    y_from_m = h_meas(x_kk1, radar_set)\n",
    "    beta1 = y_from_m[0]\n",
    "    beta2 = y_from_m[1]\n",
    "    denom1 = (1+beta1**2)*(xk-radar_set[0,0])\n",
    "    denom2 = (1+beta2**2)*(xk-radar_set[1,0])\n",
    "    Hk = np.eye(3)\n",
    "    Hk[0,0] = -1*beta1/denom1\n",
    "    Hk[0,1] = 1/denom1\n",
    "    Hk[1,0] = -1*beta2/denom2\n",
    "    Hk[1,1] = 1/denom2\n",
    "    #Hk = np.array(([[-1*beta1/denom1, 1/denom1, 0], [-1*beta2/denom2, 1/denom2, 0], [0, 0, 1]]))\n",
    "    return Hk*0.05;"
   ]
  },
  {
   "cell_type": "code",
   "execution_count": 12,
   "metadata": {},
   "outputs": [],
   "source": [
    "def Fk_cal(x_kk1):\n",
    "    theta = x_kk1[2]\n",
    "    del_F = np.zeros((3,3))\n",
    "    del_F[0,2] = np.cos(theta)\n",
    "    del_F[1,2] = np.sin(theta)\n",
    "    del_F[2,2] = 0.5**2/25\n",
    "    return np.eye(3)+(0.5*del_F);"
   ]
  },
  {
   "cell_type": "code",
   "execution_count": 13,
   "metadata": {},
   "outputs": [],
   "source": [
    "def Mk_cal():\n",
    "    Mk = np.eye(3)\n",
    "    Mk[0,0] = deg2rad(3)\n",
    "    Mk[1,1] = deg2rad(3)\n",
    "    Mk[2,2] = deg2rad(np.sqrt(5))\n",
    "    return Mk*0.1;"
   ]
  },
  {
   "cell_type": "code",
   "execution_count": 14,
   "metadata": {},
   "outputs": [],
   "source": [
    "def Lk_cal(x_kk1):\n",
    "    theta = x_kk1[2]\n",
    "    Lk = np.zeros((3,2))\n",
    "    Lk[0,0] = 0.05*np.cos(theta)\n",
    "    Lk[1,0] = 0.05*np.sin(theta)\n",
    "    Lk[2,1] = 0.002\n",
    "    return Lk*0.1;"
   ]
  },
  {
   "cell_type": "code",
   "execution_count": 15,
   "metadata": {},
   "outputs": [],
   "source": [
    "def m_std(P):\n",
    "    sum = (P[0,0]**2)+(P[1,1]**2)+(P[2,2]**2)\n",
    "    return np.sqrt(sum);"
   ]
  },
  {
   "cell_type": "code",
   "execution_count": 16,
   "metadata": {},
   "outputs": [
    {
     "name": "stdout",
     "output_type": "stream",
     "text": [
      "[  0.         -15.           4.71238898]\n"
     ]
    }
   ],
   "source": [
    "Pkk = np.zeros((3,3))\n",
    "Mk = Mk_cal()\n",
    "Sk = np.zeros((3,3))\n",
    "x_hatk1k1 = path[0,:]\n",
    "print(x_hatk1k1)"
   ]
  },
  {
   "cell_type": "code",
   "execution_count": 17,
   "metadata": {},
   "outputs": [
    {
     "name": "stdout",
     "output_type": "stream",
     "text": [
      "(10000, 3)\n",
      "(10000, 3)\n",
      "(10000, 3)\n"
     ]
    }
   ],
   "source": [
    "print(path.shape)    #the true path\n",
    "print(noise_path.shape)    #the noisy model transition\n",
    "print(noised_path1.shape)    #the noisy measurement data"
   ]
  },
  {
   "cell_type": "code",
   "execution_count": 18,
   "metadata": {},
   "outputs": [],
   "source": [
    "## initialize the measurement and the kalman path and the sk, pk stuff\n",
    "p_post = np.zeros(path.shape[0])\n",
    "p_post[0] = m_std(Pkk)\n",
    "s_innov = np.zeros(path.shape[0])\n",
    "s_innov[0] = m_std(Sk) \n",
    "x_Ekalman = np.zeros(path.shape)\n",
    "y_innov = np.zeros(path.shape)\n",
    "y_innov[0] = np.zeros(3)\n",
    "x_Ekalman[0,:] = path[0,:]"
   ]
  },
  {
   "cell_type": "code",
   "execution_count": 19,
   "metadata": {},
   "outputs": [],
   "source": [
    "## initialize the measurement and the kalman path and the sk, pk stuff\n",
    "# Max's\n",
    "P_priori = np.zeros(path.shape[0])\n",
    "# P_posteriori = np.zeros(path.shape[0])\n",
    "P_posteriori = np.zeros((path.shape[0], 3, 3))\n",
    "P_posteriori[0] = np.eye(3)\n",
    "\n",
    "p_post = np.zeros(path.shape[0])\n",
    "p_post[0] = m_std(Pkk)\n",
    "\n",
    "s_innov = np.zeros(path.shape[0])\n",
    "s_innov[0] = m_std(Sk) \n",
    "x_kalman = np.zeros(path.shape)\n",
    "y_innov = np.zeros(path.shape)\n",
    "y_innov[0] = np.zeros(3)\n",
    "x_kalman[0,:] = noise_path[0,:]\n",
    "\n",
    "\n",
    "RAD_2_DEGREE = 180 / np.pi\n",
    "\n",
    "# Max's Attempt\n",
    "R = np.diag([9 / (RAD_2_DEGREE ** 2), 9 /\n",
    "            (RAD_2_DEGREE ** 2), 5 / (RAD_2_DEGREE ** 2)])\n",
    "\n",
    "Q = np.diag([0.05, 0.05, (1 / 5) ** 2 * 0.5 ** 2])\n",
    "\n",
    "\n",
    "def F_k(x_k):\n",
    "    \n",
    "    return np.array((\n",
    "        [1, 0, -0.5 * 1 * np.sin(x_k[2])],\n",
    "        [0, 1, 0.5 * 1 * np.cos(x_k[2])],\n",
    "        [1, 0, 1],\n",
    "    ))\n",
    "\n",
    "def H_k(x_k, radar_set):\n",
    "    denom_1 = sum((x_k[i] - radar_set[0][i]) ** 2 for i in range(2))\n",
    "    denom_2 = sum((x_k[i] - radar_set[1][i]) ** 2 for i in range(2))\n",
    "    return np.array((\n",
    "        [(-x_k[1] + radar_set[0][1]) / denom_1, (x_k[0] - radar_set[0][0]) / denom_1, 0],\n",
    "        [(-x_k[1] + radar_set[1][1]) / denom_2, (x_k[0] - radar_set[1][0]) / denom_2, 0],\n",
    "        [0, 0, 1],\n",
    "    ))\n",
    "\n",
    "\n",
    "# convert noise_path angle to radians\n",
    "noise_path[:, 2] = noise_path[:, 2] * np.pi / 180\n",
    "\n",
    "\n",
    "count = 0\n",
    "for i in range(1, x_kalman.shape[0]):\n",
    "    # this all\n",
    "    if i < 2: \n",
    "        x_kk1 = noise_path[i,:]  #.reshape(3,1)        #actual model measurement\n",
    "    else:\n",
    "        x_kk1 = x_kalman[i - 1, :]\n",
    "\n",
    "    z = h_meas(noised_path1[i,:].reshape(3,1), radar_set1)          #actual radar measurement\n",
    "    z[2, 0] = normalize_radians(z[2, 0])\n",
    "    y_exp = h_meas(x_kk1, radar_set1)\n",
    "    y_exp = y_exp.reshape(3,1)\n",
    "\n",
    "    # calculating F and H\n",
    "    _F_k = F_k(x_kk1)\n",
    "    _H_k = H_k(x_kk1, radar_set1)\n",
    "\n",
    "    # calculate the priori\n",
    "    P_priori = _F_k @ P_posteriori[i] @ _F_k.T + np.eye(3) @ Q @ np.eye(3).T\n",
    "\n",
    "    # calculate the innovation\n",
    "    y_k = z-y_exp\n",
    "\n",
    "    # Innovation Covariance\n",
    "    S_k = _H_k @ P_priori @ _H_k.T + np.eye(3) @ R @ np.eye(3).T\n",
    "\n",
    "    # sub-optimal Kalman Gain\n",
    "    K_k = P_priori @ _H_k.T @ np.linalg.inv(S_k)\n",
    "\n",
    "    # a posteriori mean estimate\n",
    "    x_k_k = x_kk1 + (K_k @ y_k).T\n",
    "    # force it to be 1x\n",
    "    x_k_k = x_k_k[0]\n",
    "\n",
    "    # P posteriori\n",
    "    P_posteriori[i] = P_priori - K_k @ S_k @ K_k.T\n",
    "\n",
    "    ## data recording\n",
    "    x_kalman[i,:] = x_k_k  # x_hatkk.reshape(3)\n",
    "    y_innov[i,:] = y_k.T[0]  # y_tildek.reshape(3)\n",
    "    # p_post[i] = m_std(Pkk)\n",
    "    # s_innov[i] = Sk # m_std(Sk)\n",
    "    #print(\"loop number\", count)"
   ]
  },
  {
   "cell_type": "code",
   "execution_count": 23,
   "metadata": {},
   "outputs": [],
   "source": [
    "Ekalman_path_intg = np.zeros((200,3))\n",
    "for i in range(0,200):\n",
    "    Ekalman_path_intg[i,:] = x_kalman[50*i,:]  "
   ]
  },
  {
   "cell_type": "code",
   "execution_count": 24,
   "metadata": {},
   "outputs": [
    {
     "name": "stdout",
     "output_type": "stream",
     "text": [
      "(10000, 3)\n",
      "(10000, 3)\n",
      "(10000,)\n",
      "(10000,)\n"
     ]
    }
   ],
   "source": [
    "print(x_Ekalman.shape)\n",
    "print(y_innov.shape)\n",
    "print(p_post.shape)\n",
    "print(s_innov.shape)"
   ]
  },
  {
   "cell_type": "code",
   "execution_count": 25,
   "metadata": {},
   "outputs": [
    {
     "name": "stdout",
     "output_type": "stream",
     "text": [
      "(200, 3)\n"
     ]
    }
   ],
   "source": [
    "#kalman_path_intg = kalman_path_intg/4\n",
    "print(Ekalman_path_intg.shape)"
   ]
  },
  {
   "cell_type": "code",
   "execution_count": 26,
   "metadata": {
    "scrolled": true
   },
   "outputs": [
    {
     "data": {
      "image/png": "[encoded data removed]",
      "text/plain": [
       "<Figure size 1008x1008 with 1 Axes>"
      ]
     },
     "metadata": {
      "needs_background": "light"
     },
     "output_type": "display_data"
    }
   ],
   "source": [
    "plt.figure(figsize=(14,14))  \n",
    "plt.plot(Wptz[0].x,Wptz[0].y,'kx')\n",
    "plt.plot(Wptz[1].x,Wptz[1].y,'kx')\n",
    "plt.plot(path[:,0],path[:,1],'b-')    \n",
    "plt.scatter(noise_path_intg[:,0], noise_path_intg[:,1], color='g')\n",
    "plt.scatter(noised_path_sam1[:,0], noised_path_sam1[:,1], color='r')\n",
    "plt.plot(Ekalman_path_intg[:,0], Ekalman_path_intg[:,1], color='c')\n",
    "#plt.plot(x_Ekalman[:,0], x_Ekalman[:,1], color='c')\n",
    "\n",
    "plt.grid(True)\n",
    "plt.axis(\"equal\")\n",
    "plt.title('Dubin\\'s Curves With Kalman integral', fontsize='30')\n",
    "plt.xlabel('X', fontsize='30')\n",
    "plt.ylabel('Y', fontsize='30')\n",
    "plt.legend(['waypoint1', 'waypoint2','true path', 'kalman path','model estimated path', 'noisy measured path' ])\n",
    "plt.show()"
   ]
  },
  {
   "cell_type": "code",
   "execution_count": null,
   "metadata": {},
   "outputs": [],
   "source": [
    "plt.plot(noised_path_sam1[:,2])"
   ]
  },
  {
   "cell_type": "code",
   "execution_count": null,
   "metadata": {},
   "outputs": [],
   "source": []
  }
 ],
 "metadata": {
  "kernelspec": {
   "display_name": "Python 3",
   "language": "python",
   "name": "python3"
  },
  "language_info": {
   "codemirror_mode": {
    "name": "ipython",
    "version": 3
   },
   "file_extension": ".py",
   "mimetype": "text/x-python",
   "name": "python",
   "nbconvert_exporter": "python",
   "pygments_lexer": "ipython3",
   "version": "3.7.4"
  }
 },
 "nbformat": 4,
 "nbformat_minor": 2
}
