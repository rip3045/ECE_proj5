{
 "cells": [
  {
   "cell_type": "code",
   "execution_count": 28,
   "metadata": {},
   "outputs": [],
   "source": [
    "from ECEproj4 import *\n",
    "turn = 0.01/25\n",
    "from numpy import matmul as matm\n",
    "import filterpy\n",
    "from filterpy.kalman import MerweScaledSigmaPoints"
   ]
  },
  {
   "cell_type": "code",
   "execution_count": 2,
   "metadata": {},
   "outputs": [
    {
     "name": "stdout",
     "output_type": "stream",
     "text": [
      "(10000, 3)\n",
      "(10000, 3)\n",
      "(10000, 3)\n"
     ]
    }
   ],
   "source": [
    "#check previous variables\n",
    "print(path.shape)    #the true path\n",
    "print(noise_path.shape)    #the noisy model transition\n",
    "print(noised_path1.shape)    #the noisy measurement data"
   ]
  },
  {
   "cell_type": "code",
   "execution_count": 3,
   "metadata": {},
   "outputs": [],
   "source": [
    "#use the f function for discrete nonlinear time\n",
    "def f_forward(x_k1k1):\n",
    "    x_kk1 = np.zeros((3,1))\n",
    "    theta = x_k1k1[2]\n",
    "    x_kk1[2] = theta\n",
    "    x_kk1[0] = x_kk1[0]+(0.01*np.cos(theta))\n",
    "    x_kk1[1] = x_kk1[1]+(0.01*np.sin(theta))\n",
    "    return x_kk1;\n",
    "    "
   ]
  },
  {
   "cell_type": "code",
   "execution_count": 25,
   "metadata": {},
   "outputs": [],
   "source": [
    "def h_meas(x_hatkk1, radar_set):\n",
    "    beta1 = np.arctan2((x_hatkk1[1]-radar_set1[0,1]),(x_hatkk1[0]-radar_set1[0,0]))\n",
    "    beta2 = np.arctan2((x_hatkk1[1]-radar_set1[1,1]),(x_hatkk1[0]-radar_set1[1,0]))\n",
    "    phi = x_hatkk1[2]\n",
    "    y = np.zeros((3,1))\n",
    "    y[0] = beta1\n",
    "    y[1] = beta2\n",
    "    y[2] = phi\n",
    "    return y;\n"
   ]
  },
  {
   "cell_type": "code",
   "execution_count": 26,
   "metadata": {},
   "outputs": [
    {
     "data": {
      "text/plain": [
       "-7.08"
      ]
     },
     "execution_count": 26,
     "metadata": {},
     "output_type": "execute_result"
    }
   ],
   "source": [
    "#set up the tuning parameters \n",
    "nx = 3\n",
    "nw = 2\n",
    "nv = 3\n",
    "n_sig = 1+nx+nw+nv\n",
    "filter_beta = 2\n",
    "filter_alpha = 0.8\n",
    "filter_kappa = 3-n_sig\n",
    "filter_lambda = (filter_alpha**2)*(n_sig+filter_kappa)-n_sig\n",
    "filter_lambda"
   ]
  },
  {
   "cell_type": "code",
   "execution_count": 19,
   "metadata": {},
   "outputs": [
    {
     "data": {
      "text/plain": [
       "array([[7, 2],\n",
       "       [4, 5]])"
      ]
     },
     "execution_count": 19,
     "metadata": {},
     "output_type": "execute_result"
    }
   ],
   "source": [
    "A = np.array([[7, 2], [4, 5]])\n",
    "A"
   ]
  },
  {
   "cell_type": "code",
   "execution_count": 22,
   "metadata": {},
   "outputs": [],
   "source": [
    "D = np.linalg.cholesky(A)"
   ]
  },
  {
   "cell_type": "code",
   "execution_count": 24,
   "metadata": {},
   "outputs": [
    {
     "data": {
      "text/plain": [
       "array([[7.        , 0.        ],\n",
       "       [0.        , 2.71428571]])"
      ]
     },
     "execution_count": 24,
     "metadata": {},
     "output_type": "execute_result"
    }
   ],
   "source": [
    "D.T*D"
   ]
  },
  {
   "cell_type": "code",
   "execution_count": 31,
   "metadata": {},
   "outputs": [],
   "source": [
    "points = MerweScaledSigmaPoints(n=8, alpha=.1, beta=2., kappa=-1)"
   ]
  },
  {
   "cell_type": "code",
   "execution_count": 32,
   "metadata": {},
   "outputs": [
    {
     "name": "stdout",
     "output_type": "stream",
     "text": [
      "MerweScaledSigmaPoints object\n",
      "n = 8\n",
      "alpha = 0.1\n",
      "beta = 2.0\n",
      "kappa = -1\n",
      "Wm = [-113.28571429    7.14285714    7.14285714    7.14285714    7.14285714\n",
      "         7.14285714    7.14285714    7.14285714    7.14285714    7.14285714\n",
      "         7.14285714    7.14285714    7.14285714    7.14285714    7.14285714\n",
      "         7.14285714    7.14285714]\n",
      "Wc = [-110.29571429    7.14285714    7.14285714    7.14285714    7.14285714\n",
      "         7.14285714    7.14285714    7.14285714    7.14285714    7.14285714\n",
      "         7.14285714    7.14285714    7.14285714    7.14285714    7.14285714\n",
      "         7.14285714    7.14285714]\n",
      "subtract = <ufunc 'subtract'>\n",
      "sqrt = <function cholesky at 0x000001CB9C476678>\n"
     ]
    }
   ],
   "source": [
    "print(points)"
   ]
  },
  {
   "cell_type": "code",
   "execution_count": null,
   "metadata": {},
   "outputs": [],
   "source": []
  }
 ],
 "metadata": {
  "kernelspec": {
   "display_name": "Python 3",
   "language": "python",
   "name": "python3"
  },
  "language_info": {
   "codemirror_mode": {
    "name": "ipython",
    "version": 3
   },
   "file_extension": ".py",
   "mimetype": "text/x-python",
   "name": "python",
   "nbconvert_exporter": "python",
   "pygments_lexer": "ipython3",
   "version": "3.7.4"
  }
 },
 "nbformat": 4,
 "nbformat_minor": 2
}
